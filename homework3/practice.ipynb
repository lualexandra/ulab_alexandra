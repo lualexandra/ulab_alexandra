{
 "cells": [
  {
   "cell_type": "code",
   "execution_count": 1,
   "id": "b2e2a477-cfa0-4c76-a12f-469b13355054",
   "metadata": {},
   "outputs": [
    {
     "name": "stdout",
     "output_type": "stream",
     "text": [
      "hello world\n"
     ]
    }
   ],
   "source": [
    "# print () function\n",
    "print(\"hello world\")"
   ]
  },
  {
   "cell_type": "code",
   "execution_count": 3,
   "id": "5a5d3bd8-261f-44f8-b194-f9e3855e3a05",
   "metadata": {},
   "outputs": [
    {
     "data": {
      "text/plain": [
       "int"
      ]
     },
     "execution_count": 3,
     "metadata": {},
     "output_type": "execute_result"
    }
   ],
   "source": [
    "# Integer \n",
    "type(3)"
   ]
  },
  {
   "cell_type": "code",
   "execution_count": 4,
   "id": "7dffbe74-94ef-4250-a21d-94e6987f10b5",
   "metadata": {},
   "outputs": [
    {
     "data": {
      "text/plain": [
       "float"
      ]
     },
     "execution_count": 4,
     "metadata": {},
     "output_type": "execute_result"
    }
   ],
   "source": [
    "# Float\n",
    "type(1.)"
   ]
  },
  {
   "cell_type": "code",
   "execution_count": 5,
   "id": "d54ff688-b43e-4d06-a527-8ce87da04ee5",
   "metadata": {},
   "outputs": [
    {
     "data": {
      "text/plain": [
       "str"
      ]
     },
     "execution_count": 5,
     "metadata": {},
     "output_type": "execute_result"
    }
   ],
   "source": [
    "# String \n",
    "type(\"hi\") "
   ]
  },
  {
   "cell_type": "code",
   "execution_count": 6,
   "id": "32c9f459-42ca-4aec-be91-f172f21161f7",
   "metadata": {},
   "outputs": [
    {
     "data": {
      "text/plain": [
       "bool"
      ]
     },
     "execution_count": 6,
     "metadata": {},
     "output_type": "execute_result"
    }
   ],
   "source": [
    "# Boolean \n",
    "type(False)"
   ]
  },
  {
   "cell_type": "code",
   "execution_count": 7,
   "id": "151e2572-0c1a-404c-b006-cb52d153a84e",
   "metadata": {},
   "outputs": [
    {
     "data": {
      "text/plain": [
       "list"
      ]
     },
     "execution_count": 7,
     "metadata": {},
     "output_type": "execute_result"
    }
   ],
   "source": [
    "# List *remember square brackets*\n",
    "type([1,2,3])"
   ]
  },
  {
   "cell_type": "code",
   "execution_count": 10,
   "id": "f715c875-a7d1-499f-b4be-4ab33182b8fa",
   "metadata": {},
   "outputs": [
    {
     "data": {
      "text/plain": [
       "list"
      ]
     },
     "execution_count": 10,
     "metadata": {},
     "output_type": "execute_result"
    }
   ],
   "source": [
    "type([1,2,3]) \n",
    "type([\"python\",3, True])"
   ]
  },
  {
   "cell_type": "code",
   "execution_count": 11,
   "id": "e5a1dcae-e53f-4a2f-ac75-c33ebde231dc",
   "metadata": {},
   "outputs": [
    {
     "data": {
      "text/plain": [
       "dict"
      ]
     },
     "execution_count": 11,
     "metadata": {},
     "output_type": "execute_result"
    }
   ],
   "source": [
    "# Dictionary \n",
    "type({\"color\" : \"blue\"})"
   ]
  },
  {
   "cell_type": "code",
   "execution_count": 15,
   "id": "e228b129-2b8d-49ef-8d6e-3fe6b5286312",
   "metadata": {},
   "outputs": [
    {
     "data": {
      "text/plain": [
       "tuple"
      ]
     },
     "execution_count": 15,
     "metadata": {},
     "output_type": "execute_result"
    }
   ],
   "source": [
    "# Tuple\n",
    "type((1,2))"
   ]
  },
  {
   "cell_type": "code",
   "execution_count": 16,
   "id": "15afe02f-b226-4972-8f98-faa3e11d6ce4",
   "metadata": {},
   "outputs": [
    {
     "data": {
      "text/plain": [
       "set"
      ]
     },
     "execution_count": 16,
     "metadata": {},
     "output_type": "execute_result"
    }
   ],
   "source": [
    "# set\n",
    "type({1,2})"
   ]
  },
  {
   "cell_type": "code",
   "execution_count": 17,
   "id": "ffdba400-0e40-45eb-8ac1-be7a1ce7eb7c",
   "metadata": {},
   "outputs": [
    {
     "data": {
      "text/plain": [
       "1"
      ]
     },
     "execution_count": 17,
     "metadata": {},
     "output_type": "execute_result"
    }
   ],
   "source": [
    "#Subtraction \n",
    "2 - 1"
   ]
  },
  {
   "cell_type": "code",
   "execution_count": 18,
   "id": "a601d380-358b-42ba-bd3b-01b8493e7b89",
   "metadata": {},
   "outputs": [
    {
     "data": {
      "text/plain": [
       "3"
      ]
     },
     "execution_count": 18,
     "metadata": {},
     "output_type": "execute_result"
    }
   ],
   "source": [
    "#Addition\n",
    "2 + 1"
   ]
  },
  {
   "cell_type": "code",
   "execution_count": 19,
   "id": "7bf4c162-8d1f-42d5-97a1-931ce5d40377",
   "metadata": {},
   "outputs": [
    {
     "data": {
      "text/plain": [
       "6"
      ]
     },
     "execution_count": 19,
     "metadata": {},
     "output_type": "execute_result"
    }
   ],
   "source": [
    "#Multiply \n",
    "2*3"
   ]
  },
  {
   "cell_type": "code",
   "execution_count": 21,
   "id": "49bbb730-570d-4e4b-899e-d44a00447e78",
   "metadata": {},
   "outputs": [
    {
     "data": {
      "text/plain": [
       "1.0"
      ]
     },
     "execution_count": 21,
     "metadata": {},
     "output_type": "execute_result"
    }
   ],
   "source": [
    "#Divide\n",
    "2/2"
   ]
  },
  {
   "cell_type": "code",
   "execution_count": 22,
   "id": "c8b3f204-01f3-4826-bcec-c7be9e6b305d",
   "metadata": {},
   "outputs": [
    {
     "data": {
      "text/plain": [
       "1"
      ]
     },
     "execution_count": 22,
     "metadata": {},
     "output_type": "execute_result"
    }
   ],
   "source": [
    "#Floor division\n",
    "2//2"
   ]
  },
  {
   "cell_type": "code",
   "execution_count": 23,
   "id": "151cd07e-dab6-4298-bef0-34e081bbae0c",
   "metadata": {},
   "outputs": [
    {
     "data": {
      "text/plain": [
       "0"
      ]
     },
     "execution_count": 23,
     "metadata": {},
     "output_type": "execute_result"
    }
   ],
   "source": [
    "#Modulus (remainder)\n",
    "2 % 2"
   ]
  },
  {
   "cell_type": "code",
   "execution_count": 24,
   "id": "f4c220ed-2b32-496c-b4ec-47f8600d87d5",
   "metadata": {},
   "outputs": [
    {
     "data": {
      "text/plain": [
       "1"
      ]
     },
     "execution_count": 24,
     "metadata": {},
     "output_type": "execute_result"
    }
   ],
   "source": [
    "10 % 3"
   ]
  },
  {
   "cell_type": "code",
   "execution_count": 25,
   "id": "79ad55dd-a0aa-40c3-8c63-2e45fc81e4b0",
   "metadata": {},
   "outputs": [
    {
     "data": {
      "text/plain": [
       "8"
      ]
     },
     "execution_count": 25,
     "metadata": {},
     "output_type": "execute_result"
    }
   ],
   "source": [
    "# Exponetial \n",
    "2 ** 3"
   ]
  },
  {
   "cell_type": "code",
   "execution_count": null,
   "id": "411b32eb-04cc-4966-b91c-aeb05fc094d3",
   "metadata": {},
   "outputs": [],
   "source": []
  }
 ],
 "metadata": {
  "kernelspec": {
   "display_name": "Python 3 (ipykernel)",
   "language": "python",
   "name": "python3"
  },
  "language_info": {
   "codemirror_mode": {
    "name": "ipython",
    "version": 3
   },
   "file_extension": ".py",
   "mimetype": "text/x-python",
   "name": "python",
   "nbconvert_exporter": "python",
   "pygments_lexer": "ipython3",
   "version": "3.12.4"
  }
 },
 "nbformat": 4,
 "nbformat_minor": 5
}

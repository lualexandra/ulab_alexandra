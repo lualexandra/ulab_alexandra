{
 "cells": [
  {
   "cell_type": "markdown",
   "id": "21a1f0d2-d75c-4443-b816-1d1db3760454",
   "metadata": {},
   "source": [
    "# HW 4 - Functions \n",
    "ULAB - Physics and Astronomy Division \\\n",
    "Due **Wednesday, October 16th, 2024 at 11:59pm** on Gradescope\n",
    "\n",
    "### Once you are done with this homework, make sure to include a screenshot of you pushing this notebook inside of your homework4 branch. Make sure to include this screenshot in your branch before submitting to Gradescope!\n",
    "\n",
    "### If there is no screenshot, then you will recieve a zero! \n",
    "\n",
    "Hello ULAB! For this homework assigmnet you will continue practicing how Python handles variables, data types, functions, comments and operations! We will also touch on comments, naming conventions and hardcoding. The objective for this homework is to practice writing Python code in a structured and readable manner!\n",
    "\n",
    "Since data types were primarily covered during homework 3, we will not spend a lot of time reviewing them in this homework. Refer to Lecture #4 or ask the internet if you forget!"
   ]
  },
  {
   "cell_type": "markdown",
   "id": "8dc7e46b-1e8e-486c-a2e9-d615c687028b",
   "metadata": {},
   "source": [
    "# 1 Good Coding Practices and Debugging\n",
    "Make sure that you don't repeat any variable, function or argument names. Its a good practice to have unique names for each of these throughout an entire notebook or project! \n",
    "\n",
    "In the comment below include at least 3 bugs you ran into during this homework assignment. Give the error message, what the error message means (google it) and how you fixed the problem.  "
   ]
  },
  {
   "cell_type": "code",
   "execution_count": null,
   "id": "6d69bd71-dc59-40f8-a238-f173e9b1fd98",
   "metadata": {},
   "outputs": [],
   "source": [
    "# Error recieved for 2.2 \n",
    "\n",
    "<>:3: SyntaxWarning: 'int' object is not callable; perhaps you missed a comma?\n",
    "<>:3: SyntaxWarning: 'int' object is not callable; perhaps you missed a comma?\n",
    "/var/folders/yx/9j17qrns79x63vcm3rqzf6zh0000gn/T/ipykernel_59447/1815001185.py:3: SyntaxWarning: 'int' object is not callable; perhaps you missed a comma?\n",
    "  plus_five_times_three = 3 (x + 5)\n",
    "---------------------------------------------------------------------------\n",
    "TypeError                                 Traceback (most recent call last)\n",
    "Cell In[11], line 7\n",
    "      4     return plus_five_times_three\n",
    "      6 x = 4\n",
    "----> 7 answer = plus_five_times_three(x)\n",
    "      8 print(answer)\n",
    "\n",
    "Cell In[11], line 3, in plus_five_times_three(x)\n",
    "      1 def plus_five_times_three(x):\n",
    "      2 #product_of = calculates the product of number a and number b\n",
    "----> 3     plus_five_times_three = 3 (x + 5)\n",
    "      4     return plus_five_times_three\n",
    "\n",
    "TypeError: 'int' object is not callable\n",
    "\n",
    "# \"SyntaxWarning\" indicated that I mistyped or missed something. \n",
    "# the error was that i did not add a * between 3 and (x+5) when defining the function \n",
    "# because of the syntax error when defining the function, the later code referencing the function didnt work, leading to \"TypeError\" \n",
    "# after adding a *, the function was properly defined and the rest of the code worked without error. "
   ]
  },
  {
   "cell_type": "code",
   "execution_count": null,
   "id": "3b301701-1b91-4e3b-a078-e63f6432a4c4",
   "metadata": {},
   "outputs": [],
   "source": [
    "# Error recieved for 2.3 \n",
    "\n",
    "---------------------------------------------------------------------------\n",
    "TypeError                                 Traceback (most recent call last)\n",
    "Cell In[15], line 9\n",
    "      7 high = 3\n",
    "      8 low = 1\n",
    "----> 9 answer = within_range(x)\n",
    "     10 print(answer)\n",
    "\n",
    "TypeError: within_range() missing 2 required positional arguments: 'low' and 'high'\n",
    "\n",
    "# \"TypeError\" indicates that something cannot run.\n",
    "# the line \"answer = within_range(x)\" led to the error as x was not defined as a variable \n",
    "# i changed the line to \"answer1 = within_range(y1, high1, low1)"
   ]
  },
  {
   "cell_type": "code",
   "execution_count": null,
   "id": "7a554d9d-889a-4240-9dc3-daef53734abc",
   "metadata": {},
   "outputs": [],
   "source": [
    "# Error recieved for 2.4\n",
    "\n",
    " Cell In[23], line 2\n",
    "    sentence = person + \"is currently\" + doing_what + food.\n",
    "                                                            ^\n",
    "SyntaxError: invalid syntax\n",
    "\n",
    "# \"SyntaxError\" meant that there was some thing within the code that shouldnt be there\n",
    "# it was because of the period behind \"food\"\n",
    "# I deleted the . and replaced it with + \".\". "
   ]
  },
  {
   "cell_type": "markdown",
   "id": "5e1ba0c0-5dd9-44e8-895c-73a36d614949",
   "metadata": {},
   "source": [
    "# 2 Arithmetic Operations\n",
    "**Arithmetic Operations** allow you to perform mathematical calculations inside of Python (just like a calculator).  "
   ]
  },
  {
   "cell_type": "markdown",
   "id": "ef6d2845-2d80-4517-aa70-0e0b2d9e7882",
   "metadata": {},
   "source": [
    "## 2.1 Arithmetic Function\n",
    "Write a function called that takes two numbers (`a` and `b`) as arguments and returns a list or tuple with:\n",
    "\n",
    "- The sum of `a` and `b`\n",
    "- The difference when `b` is subtracted from `a`\n",
    "- The product of `a` and `b`\n",
    "- The division of `a` by `b` (normal division)\n",
    "- The floor division of `a` by `b`\n",
    "- The remainder when `a` is divided by `b`\n",
    "- `a` raised to the power of `b`\n",
    "\n",
    "Don't forget to include a comment describing what the function is doing! Use a different function name than me! And make sure to show multiple test cases (inputs), including the one I gave you (num_1 = 10, num_2 = 3).\n",
    "\n",
    "Example:\n",
    "\n",
    "```\n",
    ">>> def arithmetic_operations(num_1, num_2):\n",
    "...     # Your comment here\n",
    "...     # Your code here\n",
    "...     return # Your code here\n",
    "\n",
    ">>> a = 10\n",
    ">>> b = 3\n",
    ">>> operations = arithmetic_operations(num_1 = a, num_2 = b)\n",
    ">>> print(operations)\n",
    "\n",
    "(13, 7, 30, 3.3333333333333335, 3, 1, 1000) \n",
    "```"
   ]
  },
  {
   "cell_type": "code",
   "execution_count": 4,
   "id": "f8526535-a6a9-46be-83d3-658ad4500762",
   "metadata": {},
   "outputs": [
    {
     "name": "stdout",
     "output_type": "stream",
     "text": [
      "24\n"
     ]
    }
   ],
   "source": [
    "def product_of(a, b):\n",
    "#product_of = calculates the product of number a and number b\n",
    "    product_of = (a * b)\n",
    "    return product_of\n",
    "\n",
    "a = 4\n",
    "b = 6\n",
    "my_product = product_of(a, b)\n",
    "print(my_product)"
   ]
  },
  {
   "cell_type": "markdown",
   "id": "9672e601-ce1a-4f2c-8de0-ce168ef0a12e",
   "metadata": {},
   "source": [
    "In the cell below (as a comment) describe your thinking process and how your function displays good *function writing processes* as described in lecture. Must be at least 2 sentences."
   ]
  },
  {
   "cell_type": "code",
   "execution_count": 8,
   "id": "b7eec35e-3263-4c40-a474-c0dfd924b764",
   "metadata": {},
   "outputs": [],
   "source": [
    "# I wanted to find the product between number a and number b, so I created the function \"product_of(a, b)\". \n",
    "# I defined product_of as product_of = (a * b).\n",
    "# I also left a comment under my function that indicated the intent as to not be confused in the future. "
   ]
  },
  {
   "cell_type": "markdown",
   "id": "49eb4bc2-e109-46c7-8235-c53d269c358f",
   "metadata": {},
   "source": [
    "## 2.2 Increment by Five\n",
    "Write a function with assignment operators, that takes a number and returns the number incremented by 5 and multiplied by 3.\n",
    "\n",
    "Don't forget to include a comment describing what the function is doing! Use a different function name than me! And make sure to show multiple test cases (inputs), including the one I gave you (num_1 = 10).\n",
    "Example:\n",
    "```\n",
    ">>> def increment_and_multiply(num_1):\n",
    "...     # Your comment here\n",
    "...     # Your code here\n",
    "...     return # Your code here\n",
    "\n",
    ">>> x = 10\n",
    ">>> print(increment_by_5(x))\n",
    "45\n",
    "```"
   ]
  },
  {
   "cell_type": "code",
   "execution_count": 13,
   "id": "7de14ca3-65c2-463f-8345-529603368c0a",
   "metadata": {},
   "outputs": [
    {
     "name": "stdout",
     "output_type": "stream",
     "text": [
      "27\n"
     ]
    }
   ],
   "source": [
    "def plus_five_times_three(x):\n",
    "#plus_five_times_three = 5 is added to a number and then multiplied by 3\n",
    "    plus_five_times_three = 3 * (x + 5)\n",
    "    return plus_five_times_three\n",
    "\n",
    "x = 4\n",
    "answer = plus_five_times_three(x)\n",
    "print(answer)"
   ]
  },
  {
   "cell_type": "markdown",
   "id": "05c0bd02-7031-41b4-b598-178b883b9418",
   "metadata": {},
   "source": [
    "In the cell below (as a comment) describe your thinking process and the purpose of assignment operators. Must be at least 2 sentences."
   ]
  },
  {
   "cell_type": "code",
   "execution_count": 14,
   "id": "aba9e76c-4f39-4dd9-a533-457ac788b4d7",
   "metadata": {},
   "outputs": [],
   "source": [
    "# I wanted to find answer when a 5 is added to a number and then multiplied by 3, so I created the function \"plus_five_times_three(x)\". \n",
    "# I defined plus_five_times_three as plus_five_times_three = 3 * (x + 5).\n",
    "# I also left a comment under my function that indicated the intent as to not be confused in the future. "
   ]
  },
  {
   "cell_type": "markdown",
   "id": "33b71724-2522-4ce9-8cb3-eb0ed6200d96",
   "metadata": {},
   "source": [
    "## 2.3 Setting a Range\n",
    "Write a function that takes in three arguments (x, low, high) and returns True if x is between low and high (inclusive), otherwise it returns False. Use comparison operator to check the three arguments!\n",
    "\n",
    "Don't forget to include a comment describing what the function is doing! And use a different function name than me!\n",
    "\n",
    "Example:\n",
    "```\n",
    ">>> def is_in_range(x, low, high):\n",
    "...     # Your comment here\n",
    "...     # Your code here\n",
    "...     return # Your code here\n",
    "\n",
    ">>> print(is_in_range(5, 1, 10))\n",
    "\n",
    "True\n",
    "\n",
    ">>> print(is_in_range(15, 1, 10))\n",
    "\n",
    "False\n",
    "```"
   ]
  },
  {
   "cell_type": "code",
   "execution_count": 22,
   "id": "6fccfc23-bb87-4390-9291-7f3269472573",
   "metadata": {},
   "outputs": [
    {
     "name": "stdout",
     "output_type": "stream",
     "text": [
      "False\n",
      "True\n"
     ]
    }
   ],
   "source": [
    "def within_range(y, low, high):\n",
    "#within_range = is y between the range of low and high \n",
    "    within_range = high > y > low\n",
    "    return within_range\n",
    "\n",
    "y1 = 4\n",
    "y2 = 2\n",
    "\n",
    "high = 3\n",
    "low = 1\n",
    "\n",
    "answer1 = within_range(y1, low, high)\n",
    "print(answer1)\n",
    "answer2 = within_range(y2, low, high)\n",
    "print(answer2)"
   ]
  },
  {
   "cell_type": "markdown",
   "id": "764fe405-5749-4237-bfae-27a616321954",
   "metadata": {},
   "source": [
    "In the cell below (as a comment) describe your thinking process and how your function displays good *function writing processes* as described in lecture. Must be at least 2 sentences."
   ]
  },
  {
   "cell_type": "code",
   "execution_count": 2,
   "id": "9b3c7ec6-8101-449e-b2a0-e2910b441b52",
   "metadata": {},
   "outputs": [],
   "source": [
    "# I want to see if number y is within the range of low and high \n",
    "# I defined within_range as within_range = high > y > low\n",
    "# I testing two y values, y1 = 4 and y2 = 2. I set the high value as 3 and the low value as 1. \n",
    "# Testing y1 resulted in \"False\" as 4 is not within the range of 1 and 3 and testing y2 resulted in \"True\" as y2 is. \n",
    "# I also left a comment under my function that indicated the intent as to not be confused in the future. "
   ]
  },
  {
   "cell_type": "markdown",
   "id": "242ced1e-1ed9-4b7a-ab2e-031daf67c8cb",
   "metadata": {},
   "source": [
    "## 2.4 Adding Strings Together\n",
    "Write a function that takes in at least 5 words and makes a sentence with proper grammer.\n",
    "\n",
    "Example:\n",
    "\n",
    "```\n",
    ">>> def making_sentences(a, b, c, d, e):\n",
    "...     # Your comment here\n",
    "...     # Your code here\n",
    "...     return # Your code here\n",
    "\n",
    ">>> a = \"Here\"\n",
    ">>> b = \"is\"\n",
    ">>> c = \"your\"\n",
    ">>> d = \"iced\"\n",
    ">>> e = \"latte\"\n",
    ">>> my_fav_sentence = making_sentences(a, b, c, d, e)\n",
    ">>> print(my_fav_sentence)\n",
    "\n",
    "'Here is your iced latte!'\n",
    "```"
   ]
  },
  {
   "cell_type": "code",
   "execution_count": 35,
   "id": "12165244-8b1a-4abc-b65d-10547db823d5",
   "metadata": {},
   "outputs": [
    {
     "name": "stdout",
     "output_type": "stream",
     "text": [
      "alexandra is currently eating a slice of pizza !!\n",
      "alexandra is currently drinking a matcha latte !!\n"
     ]
    }
   ],
   "source": [
    "def current_vibes(person, doing_what, food): \n",
    "    sentence = person + \" is currently \" + doing_what + \" \" + \"a\" + \" \" + food + \" !!\"\n",
    "    return sentence \n",
    "\n",
    "person = \"alexandra\"\n",
    "doing_what1 = \"eating\"\n",
    "doing_what2 = \"drinking\"\n",
    "food1 = \"slice of pizza\"\n",
    "food2 = \"matcha latte\"\n",
    "\n",
    "answer1 = current_vibes(person, doing_what1, food1)\n",
    "print(answer1)\n",
    "answer2 = current_vibes(person, doing_what2, food2)\n",
    "print(answer2)"
   ]
  },
  {
   "cell_type": "markdown",
   "id": "75e1ebff-f910-40e3-9f9d-5988da68e107",
   "metadata": {},
   "source": [
    "# 3 Introduction to Scripting\n",
    "The act of **scripting** is glueing different pieces of code together. Let's practice!\n",
    "\n"
   ]
  },
  {
   "cell_type": "markdown",
   "id": "083add03-eaa2-4628-9dca-32f37dc8da9d",
   "metadata": {},
   "source": [
    "## 3.1 Define Multiple Functions\n",
    "Write two different functions:\n",
    "- One that converts celsius to fahrenheit\n",
    "- One that converts celsius to kelvin\n",
    "\n",
    "You will need to google these formulas if you don't know them off the top of your head! Because haha I don't know them."
   ]
  },
  {
   "cell_type": "code",
   "execution_count": null,
   "id": "9dc239ff-86a3-45a5-8bd2-3ba50fc06d34",
   "metadata": {},
   "outputs": [],
   "source": [
    "#(0°C × 9/5) + 32 = 32°F\n",
    "# 0°C + 273.15 = 273.15K"
   ]
  },
  {
   "cell_type": "code",
   "execution_count": 60,
   "id": "569001a8-f62a-4fdc-bebe-ec27f77f2385",
   "metadata": {},
   "outputs": [
    {
     "name": "stdout",
     "output_type": "stream",
     "text": [
      "274.15\n",
      "33.8\n"
     ]
    }
   ],
   "source": [
    "def c_to_k(c):\n",
    "    k = c + 273.15\n",
    "    return k\n",
    "\n",
    "def c_to_f(c):\n",
    "    f = (c * (9/5)) + 32\n",
    "    return f\n",
    "\n",
    "newc = 1\n",
    "newk = c_to_k(newc)\n",
    "newf = c_to_f(newc)\n",
    "print(newk)\n",
    "print(newf)"
   ]
  },
  {
   "cell_type": "markdown",
   "id": "a7dbe056-b57e-4ae8-af3a-a38acf20ac95",
   "metadata": {},
   "source": [
    "## 3.2 Calling Upon Other Functions\n",
    "Write a function that takes the two functions you wrote above and calls on them. Have you function return the values. Print the answer below. \n",
    "\n",
    "Example:\n",
    "\n",
    "```\n",
    ">>> def my_function():\n",
    "...     # Your comment here\n",
    "...     fahrenheit = first_function() # Just an example, your code here\n",
    "...     kelvin = second_function() # Another example, your code here\n",
    "...     return # Your code here\n",
    "\n",
    ">>> print(my_function())\n",
    "```\n",
    "\n",
    "Include screaming snake case syntax if you think it applies to this question. If not, include a comment explaining why not. "
   ]
  },
  {
   "cell_type": "code",
   "execution_count": 67,
   "id": "299f6dd8-7dda-4465-96f7-712e9149e179",
   "metadata": {},
   "outputs": [
    {
     "name": "stdout",
     "output_type": "stream",
     "text": [
      "(33.8, 274.15)\n"
     ]
    }
   ],
   "source": [
    "def tempcalc(c):\n",
    "    fahrenheit = c_to_f(c)\n",
    "    kelvin = c_to_k(c)\n",
    "    return fahrenheit, kelvin\n",
    "\n",
    "newc = 1\n",
    "newkf = tempcalc(newc)\n",
    "print(newkf)"
   ]
  },
  {
   "cell_type": "markdown",
   "id": "4f50c562-1890-4fc1-adce-246e2ed77719",
   "metadata": {},
   "source": [
    "# 4 Get Creative\n",
    "Write a function on something that is not covered in this notebook. For example: assignment/comparison operators that you haven't worked with yet, global vs. local variables (like when it would be a good idea to use a global variable), default arguments, or all of the above! But your function definitely doesn't have to include everything we didn't cover in this assignment, picking one thing is perfectly fine. \n",
    "\n",
    "Bonus points if you teach me something new. (No importing packages for this question, if you don't know what that means we will learn in the following weeks!)"
   ]
  },
  {
   "cell_type": "code",
   "execution_count": 87,
   "id": "0c65d553-05b5-4f2f-8312-3e9ff1550753",
   "metadata": {},
   "outputs": [
    {
     "name": "stdout",
     "output_type": "stream",
     "text": [
      "the first number is the surface area of the rectangular prism, the second number is the volume of the prism, and the last number is all of the lengths added together: (22, 6, 24)\n"
     ]
    }
   ],
   "source": [
    "def allmeasurements(l,w,h):\n",
    "    surfacearea = 2 * ((l*w) + (l*h) + (h*w))\n",
    "    volume = l * w * h\n",
    "    alllengths = 4 * (l + w + h)\n",
    "    return surfacearea, volume, alllengths \n",
    "\n",
    "newl = 1\n",
    "neww = 2\n",
    "newh = 3\n",
    "newmeasurements = allmeasurements(newl,neww,newh)\n",
    "print(\"the first number is the surface area of the rectangular prism, the second number is the volume of the prism, and the last number is all of the lengths added together:\", newmeasurements)\n"
   ]
  },
  {
   "cell_type": "markdown",
   "id": "8cf33b19-9bca-484e-8129-d8a4896a1bfa",
   "metadata": {},
   "source": [
    "# 5 Proper Submission\n",
    "To recieve full credit for this assignment make sure you do the following:\n",
    "1) Copy this jupter notebook from the `ulab_2024` repository into **YOUR** local `homework` branch.\n",
    "   \n",
    "3) Follow the tasks. Make sure to run all the cells so that all output is visible.\n",
    "   \n",
    "5) Push this notebook to your remote `homework4` branch. Refer to the lecture slides for more information.\n",
    "      \n",
    "6) **WARNING!! IF YOU DO NOT FOLLOW THIS STEP YOU WILL RECIEVE A ZERO!**\n",
    "   1) Take a screenshot of your command line when you `push` this notebook from your local `homework4` branch to your remote `homework4` branch. Make sure to prove that you are inside a branch besides `main` or `master` by calling `git branch` and make sure to prove that your `homework4` branch only contains the homework4 folder of Jupyter Notebook you copied over from `ulab_2024` (which can be done by calling `ls`). \n",
    "   3)  Include that screenshot in your remote branch when you upload your GitHub branch to Gradescope!\n",
    "  \n",
    "(Optional) Do you have any comments about this homework assigment or the class? Any questions you need answered? Please type them below. "
   ]
  },
  {
   "cell_type": "code",
   "execution_count": null,
   "id": "fe93d7e1-ab53-49bd-8b50-aba721d0d2d4",
   "metadata": {},
   "outputs": [],
   "source": [
    "# Your comment here"
   ]
  }
 ],
 "metadata": {
  "kernelspec": {
   "display_name": "Python 3 (ipykernel)",
   "language": "python",
   "name": "python3"
  },
  "language_info": {
   "codemirror_mode": {
    "name": "ipython",
    "version": 3
   },
   "file_extension": ".py",
   "mimetype": "text/x-python",
   "name": "python",
   "nbconvert_exporter": "python",
   "pygments_lexer": "ipython3",
   "version": "3.12.4"
  }
 },
 "nbformat": 4,
 "nbformat_minor": 5
}
